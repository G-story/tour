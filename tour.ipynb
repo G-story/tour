{
 "cells": [
  {
   "cell_type": "code",
   "execution_count": 1,
   "metadata": {
    "collapsed": true
   },
   "outputs": [],
   "source": [
    "import pandas as pd\n",
    "import numpy as np\n",
    "import matplotlib.pyplot as plt"
   ]
  },
  {
   "cell_type": "code",
   "execution_count": 2,
   "metadata": {
    "collapsed": false
   },
   "outputs": [
    {
     "data": {
      "text/html": [
       "<div>\n",
       "<table border=\"1\" class=\"dataframe\">\n",
       "  <thead>\n",
       "    <tr style=\"text-align: right;\">\n",
       "      <th></th>\n",
       "      <th>제목</th>\n",
       "      <th>카테고리1</th>\n",
       "      <th>카테고리2</th>\n",
       "      <th>카테고리3</th>\n",
       "      <th>지역명</th>\n",
       "      <th>시군구명</th>\n",
       "      <th>요약</th>\n",
       "    </tr>\n",
       "  </thead>\n",
       "  <tbody>\n",
       "    <tr>\n",
       "      <th>0</th>\n",
       "      <td>덕수궁</td>\n",
       "      <td>인문(문화/예술/역사)</td>\n",
       "      <td>역사관광지</td>\n",
       "      <td>고궁</td>\n",
       "      <td>서울</td>\n",
       "      <td>중구</td>\n",
       "      <td>사적 제124호의 덕수궁은 본디 왕궁이 아니었다. 원래 성종의 형인 월산대군(145...</td>\n",
       "    </tr>\n",
       "    <tr>\n",
       "      <th>1</th>\n",
       "      <td>서울 운현궁</td>\n",
       "      <td>인문(문화/예술/역사)</td>\n",
       "      <td>역사관광지</td>\n",
       "      <td>고궁</td>\n",
       "      <td>서울</td>\n",
       "      <td>종로구</td>\n",
       "      <td>운현궁은 현재 종로구 운니동에 위치한 사적 제 257호의 문화유산이다. 운현궁은 경...</td>\n",
       "    </tr>\n",
       "    <tr>\n",
       "      <th>2</th>\n",
       "      <td>경희궁</td>\n",
       "      <td>인문(문화/예술/역사)</td>\n",
       "      <td>역사관광지</td>\n",
       "      <td>고궁</td>\n",
       "      <td>서울</td>\n",
       "      <td>종로구</td>\n",
       "      <td>사적 제271호인 경희궁은 조선을 개국한 태조 이성계가 살았던 곳으로, 새문안 대궐...</td>\n",
       "    </tr>\n",
       "    <tr>\n",
       "      <th>3</th>\n",
       "      <td>경복궁</td>\n",
       "      <td>인문(문화/예술/역사)</td>\n",
       "      <td>역사관광지</td>\n",
       "      <td>고궁</td>\n",
       "      <td>서울</td>\n",
       "      <td>종로구</td>\n",
       "      <td>경복궁은 1395년 태조 이성계에 의해서 새로운 조선왕조의 법궁으로 지어졌다. 경복...</td>\n",
       "    </tr>\n",
       "    <tr>\n",
       "      <th>4</th>\n",
       "      <td>창경궁</td>\n",
       "      <td>인문(문화/예술/역사)</td>\n",
       "      <td>역사관광지</td>\n",
       "      <td>고궁</td>\n",
       "      <td>서울</td>\n",
       "      <td>종로구</td>\n",
       "      <td>창경궁은 세종대왕이 상왕인 태종을 모시고자 1418년에 지은 수강궁이 그 전신이다....</td>\n",
       "    </tr>\n",
       "  </tbody>\n",
       "</table>\n",
       "</div>"
      ],
      "text/plain": [
       "       제목         카테고리1  카테고리2 카테고리3 지역명 시군구명  \\\n",
       "0     덕수궁  인문(문화/예술/역사)  역사관광지    고궁  서울   중구   \n",
       "1  서울 운현궁  인문(문화/예술/역사)  역사관광지    고궁  서울  종로구   \n",
       "2     경희궁  인문(문화/예술/역사)  역사관광지    고궁  서울  종로구   \n",
       "3     경복궁  인문(문화/예술/역사)  역사관광지    고궁  서울  종로구   \n",
       "4     창경궁  인문(문화/예술/역사)  역사관광지    고궁  서울  종로구   \n",
       "\n",
       "                                                  요약  \n",
       "0  사적 제124호의 덕수궁은 본디 왕궁이 아니었다. 원래 성종의 형인 월산대군(145...  \n",
       "1  운현궁은 현재 종로구 운니동에 위치한 사적 제 257호의 문화유산이다. 운현궁은 경...  \n",
       "2  사적 제271호인 경희궁은 조선을 개국한 태조 이성계가 살았던 곳으로, 새문안 대궐...  \n",
       "3  경복궁은 1395년 태조 이성계에 의해서 새로운 조선왕조의 법궁으로 지어졌다. 경복...  \n",
       "4  창경궁은 세종대왕이 상왕인 태종을 모시고자 1418년에 지은 수강궁이 그 전신이다....  "
      ]
     },
     "execution_count": 2,
     "metadata": {},
     "output_type": "execute_result"
    }
   ],
   "source": [
    "tour_df = pd.read_csv('tour.csv', encoding = 'cp949')\n",
    "tour_df.head()"
   ]
  },
  {
   "cell_type": "code",
   "execution_count": 3,
   "metadata": {
    "collapsed": false
   },
   "outputs": [
    {
     "data": {
      "text/plain": [
       "17"
      ]
     },
     "execution_count": 3,
     "metadata": {},
     "output_type": "execute_result"
    }
   ],
   "source": [
    "tour_group = tour_df.groupby('지역명')\n",
    "len(tour_group.groups)"
   ]
  },
  {
   "cell_type": "code",
   "execution_count": 4,
   "metadata": {
    "collapsed": false
   },
   "outputs": [
    {
     "data": {
      "text/html": [
       "<div>\n",
       "<table border=\"1\" class=\"dataframe\">\n",
       "  <thead>\n",
       "    <tr style=\"text-align: right;\">\n",
       "      <th></th>\n",
       "      <th>제목</th>\n",
       "      <th>카테고리1</th>\n",
       "      <th>카테고리2</th>\n",
       "      <th>카테고리3</th>\n",
       "      <th>시군구명</th>\n",
       "      <th>요약</th>\n",
       "    </tr>\n",
       "    <tr>\n",
       "      <th>지역명</th>\n",
       "      <th></th>\n",
       "      <th></th>\n",
       "      <th></th>\n",
       "      <th></th>\n",
       "      <th></th>\n",
       "      <th></th>\n",
       "    </tr>\n",
       "  </thead>\n",
       "  <tbody>\n",
       "    <tr>\n",
       "      <th>강원도</th>\n",
       "      <td>745</td>\n",
       "      <td>745</td>\n",
       "      <td>744</td>\n",
       "      <td>745</td>\n",
       "      <td>744</td>\n",
       "      <td>745</td>\n",
       "    </tr>\n",
       "    <tr>\n",
       "      <th>경기도</th>\n",
       "      <td>790</td>\n",
       "      <td>790</td>\n",
       "      <td>790</td>\n",
       "      <td>789</td>\n",
       "      <td>789</td>\n",
       "      <td>790</td>\n",
       "    </tr>\n",
       "    <tr>\n",
       "      <th>경상남도</th>\n",
       "      <td>827</td>\n",
       "      <td>827</td>\n",
       "      <td>827</td>\n",
       "      <td>827</td>\n",
       "      <td>827</td>\n",
       "      <td>816</td>\n",
       "    </tr>\n",
       "    <tr>\n",
       "      <th>경상북도</th>\n",
       "      <td>964</td>\n",
       "      <td>964</td>\n",
       "      <td>964</td>\n",
       "      <td>964</td>\n",
       "      <td>964</td>\n",
       "      <td>956</td>\n",
       "    </tr>\n",
       "    <tr>\n",
       "      <th>광주</th>\n",
       "      <td>100</td>\n",
       "      <td>100</td>\n",
       "      <td>100</td>\n",
       "      <td>100</td>\n",
       "      <td>100</td>\n",
       "      <td>100</td>\n",
       "    </tr>\n",
       "    <tr>\n",
       "      <th>대구</th>\n",
       "      <td>155</td>\n",
       "      <td>155</td>\n",
       "      <td>155</td>\n",
       "      <td>155</td>\n",
       "      <td>155</td>\n",
       "      <td>155</td>\n",
       "    </tr>\n",
       "    <tr>\n",
       "      <th>대전</th>\n",
       "      <td>70</td>\n",
       "      <td>70</td>\n",
       "      <td>70</td>\n",
       "      <td>70</td>\n",
       "      <td>70</td>\n",
       "      <td>70</td>\n",
       "    </tr>\n",
       "    <tr>\n",
       "      <th>부산</th>\n",
       "      <td>144</td>\n",
       "      <td>144</td>\n",
       "      <td>144</td>\n",
       "      <td>144</td>\n",
       "      <td>144</td>\n",
       "      <td>144</td>\n",
       "    </tr>\n",
       "    <tr>\n",
       "      <th>서울</th>\n",
       "      <td>379</td>\n",
       "      <td>379</td>\n",
       "      <td>379</td>\n",
       "      <td>379</td>\n",
       "      <td>378</td>\n",
       "      <td>378</td>\n",
       "    </tr>\n",
       "    <tr>\n",
       "      <th>세종특별자치시</th>\n",
       "      <td>25</td>\n",
       "      <td>25</td>\n",
       "      <td>25</td>\n",
       "      <td>25</td>\n",
       "      <td>24</td>\n",
       "      <td>25</td>\n",
       "    </tr>\n",
       "    <tr>\n",
       "      <th>울산</th>\n",
       "      <td>94</td>\n",
       "      <td>94</td>\n",
       "      <td>94</td>\n",
       "      <td>94</td>\n",
       "      <td>94</td>\n",
       "      <td>94</td>\n",
       "    </tr>\n",
       "    <tr>\n",
       "      <th>인천</th>\n",
       "      <td>203</td>\n",
       "      <td>203</td>\n",
       "      <td>203</td>\n",
       "      <td>203</td>\n",
       "      <td>203</td>\n",
       "      <td>203</td>\n",
       "    </tr>\n",
       "    <tr>\n",
       "      <th>전라남도</th>\n",
       "      <td>855</td>\n",
       "      <td>855</td>\n",
       "      <td>854</td>\n",
       "      <td>855</td>\n",
       "      <td>855</td>\n",
       "      <td>853</td>\n",
       "    </tr>\n",
       "    <tr>\n",
       "      <th>전라북도</th>\n",
       "      <td>805</td>\n",
       "      <td>805</td>\n",
       "      <td>805</td>\n",
       "      <td>805</td>\n",
       "      <td>805</td>\n",
       "      <td>804</td>\n",
       "    </tr>\n",
       "    <tr>\n",
       "      <th>제주도</th>\n",
       "      <td>287</td>\n",
       "      <td>287</td>\n",
       "      <td>287</td>\n",
       "      <td>287</td>\n",
       "      <td>286</td>\n",
       "      <td>287</td>\n",
       "    </tr>\n",
       "    <tr>\n",
       "      <th>충청남도</th>\n",
       "      <td>608</td>\n",
       "      <td>608</td>\n",
       "      <td>608</td>\n",
       "      <td>608</td>\n",
       "      <td>608</td>\n",
       "      <td>607</td>\n",
       "    </tr>\n",
       "    <tr>\n",
       "      <th>충청북도</th>\n",
       "      <td>563</td>\n",
       "      <td>563</td>\n",
       "      <td>562</td>\n",
       "      <td>562</td>\n",
       "      <td>562</td>\n",
       "      <td>563</td>\n",
       "    </tr>\n",
       "  </tbody>\n",
       "</table>\n",
       "</div>"
      ],
      "text/plain": [
       "          제목  카테고리1  카테고리2  카테고리3  시군구명   요약\n",
       "지역명                                         \n",
       "강원도      745    745    744    745   744  745\n",
       "경기도      790    790    790    789   789  790\n",
       "경상남도     827    827    827    827   827  816\n",
       "경상북도     964    964    964    964   964  956\n",
       "광주       100    100    100    100   100  100\n",
       "대구       155    155    155    155   155  155\n",
       "대전        70     70     70     70    70   70\n",
       "부산       144    144    144    144   144  144\n",
       "서울       379    379    379    379   378  378\n",
       "세종특별자치시   25     25     25     25    24   25\n",
       "울산        94     94     94     94    94   94\n",
       "인천       203    203    203    203   203  203\n",
       "전라남도     855    855    854    855   855  853\n",
       "전라북도     805    805    805    805   805  804\n",
       "제주도      287    287    287    287   286  287\n",
       "충청남도     608    608    608    608   608  607\n",
       "충청북도     563    563    562    562   562  563"
      ]
     },
     "execution_count": 4,
     "metadata": {},
     "output_type": "execute_result"
    }
   ],
   "source": [
    "tour_group.count()"
   ]
  },
  {
   "cell_type": "code",
   "execution_count": 5,
   "metadata": {
    "collapsed": false
   },
   "outputs": [],
   "source": [
    "jeju = tour_group.get_group('제주도')"
   ]
  },
  {
   "cell_type": "code",
   "execution_count": 6,
   "metadata": {
    "collapsed": false
   },
   "outputs": [
    {
     "data": {
      "text/plain": [
       "제목       165\n",
       "카테고리1    165\n",
       "카테고리2    165\n",
       "카테고리3    165\n",
       "지역명      165\n",
       "시군구명     165\n",
       "요약       165\n",
       "dtype: int64"
      ]
     },
     "execution_count": 6,
     "metadata": {},
     "output_type": "execute_result"
    }
   ],
   "source": [
    "jeju_nature = jeju[jeju['카테고리1'] == '자연']\n",
    "jeju_nature.count()"
   ]
  },
  {
   "cell_type": "code",
   "execution_count": 7,
   "metadata": {
    "collapsed": true
   },
   "outputs": [],
   "source": [
    "from lxml import html"
   ]
  },
  {
   "cell_type": "code",
   "execution_count": 8,
   "metadata": {
    "collapsed": true
   },
   "outputs": [],
   "source": [
    "AGENT = 'Mozilla/5.0 (compatible, MSIE 11, Windows NT 6.3; Trident/7.0; rv:11.0) like Gecko'\n",
    "REFERER = 'http://clien.net'"
   ]
  },
  {
   "cell_type": "code",
   "execution_count": 9,
   "metadata": {
    "collapsed": true
   },
   "outputs": [],
   "source": [
    "import requests"
   ]
  },
  {
   "cell_type": "code",
   "execution_count": 10,
   "metadata": {
    "collapsed": false
   },
   "outputs": [],
   "source": [
    "session = requests.Session()\n",
    "session.headers.update({'User-Agent': AGENT, 'Referer': REFERER})\n",
    "url = 'http://www.weatheri.co.kr/forecast/forecast04.php'\n",
    "resp = session.get(url)\n",
    "resp.encoding = 'utf-8'\n",
    "elem = html.fromstring(resp.text)\n",
    "whether_table = elem.cssselect('table')[8].cssselect('table tr')\n",
    "areas = []\n",
    "dates = []\n",
    "whethers_of_all_area = []"
   ]
  },
  {
   "cell_type": "code",
   "execution_count": 11,
   "metadata": {
    "collapsed": false
   },
   "outputs": [],
   "source": [
    "for i, tr in enumerate(whether_table):\n",
    "    tds = tr.cssselect('td')\n",
    "    if i == 0:\n",
    "        for i, td in enumerate(tds):\n",
    "            if i > 0:\n",
    "                dates.append(td.text_content().strip())\n",
    "    if len(tds[0].cssselect('strong')) == 0:\n",
    "        continue\n",
    "    areas.append(tds[0].text_content().strip())\n",
    "    imgs = tr.cssselect('td img')\n",
    "    \n",
    "    whethers = []\n",
    "    for img in imgs:\n",
    "        whethers.append(img.get('alt'))\n",
    "    whethers_of_all_area.append(whethers)"
   ]
  },
  {
   "cell_type": "code",
   "execution_count": 12,
   "metadata": {
    "collapsed": false
   },
   "outputs": [
    {
     "data": {
      "text/plain": [
       "['11일 (수)',\n",
       " '12일 (목)',\n",
       " '13일 (금)',\n",
       " '14일 (토)',\n",
       " '15일 (일)',\n",
       " '16일 (월)',\n",
       " '17일 (화)',\n",
       " '18일 (수)',\n",
       " '19일 (목)']"
      ]
     },
     "execution_count": 12,
     "metadata": {},
     "output_type": "execute_result"
    }
   ],
   "source": [
    "dates"
   ]
  },
  {
   "cell_type": "code",
   "execution_count": 13,
   "metadata": {
    "collapsed": false
   },
   "outputs": [],
   "source": [
    "from datetime import datetime, date"
   ]
  },
  {
   "cell_type": "code",
   "execution_count": 14,
   "metadata": {
    "collapsed": false
   },
   "outputs": [
    {
     "data": {
      "text/plain": [
       "['2016-05-11',\n",
       " '2016-05-12',\n",
       " '2016-05-13',\n",
       " '2016-05-14',\n",
       " '2016-05-15',\n",
       " '2016-05-16',\n",
       " '2016-05-17',\n",
       " '2016-05-18',\n",
       " '2016-05-19']"
      ]
     },
     "execution_count": 14,
     "metadata": {},
     "output_type": "execute_result"
    }
   ],
   "source": [
    "dates = [datetime.strftime(date.today().replace(day=int(d[:2])), \"%Y-%m-%d\") for d in dates]\n",
    "\n",
    "dates"
   ]
  },
  {
   "cell_type": "code",
   "execution_count": 15,
   "metadata": {
    "collapsed": false
   },
   "outputs": [
    {
     "data": {
      "text/plain": [
       "[['흐린 후 갬', '구름조금', '흐림', '구름조금', '흐려져 비', '구름많음', '구름조금', '구름조금', '구름많음'],\n",
       " ['흐린 후 갬', '구름조금', '흐림', '구름조금', '흐려져 비', '구름많음', '구름조금', '구름조금', '구름많음'],\n",
       " ['흐린 후 갬', '구름조금', '구름많음', '구름조금', '구름많음', '비 후 갬', '구름조금', '구름조금', '구름많음'],\n",
       " ['흐린 후 갬', '구름조금', '구름많음', '구름조금', '흐려져 비', '구름많음', '구름많음', '구름조금', '구름많음'],\n",
       " ['흐린 후 갬', '구름조금', '구름많음', '구름조금', '흐려져 비', '구름많음', '구름많음', '구름조금', '구름많음'],\n",
       " ['흐린 후 갬', '구름조금', '구름많음', '구름조금', '흐려져 비', '비 후 갬', '구름많음', '구름조금', '구름많음'],\n",
       " ['흐린 후 갬', '구름조금', '구름많음', '구름조금', '흐려져 비', '비 후 갬', '구름많음', '구름조금', '구름많음'],\n",
       " ['흐린 후 갬', '구름조금', '구름많음', '구름조금', '흐려져 비', '비 후 갬', '구름많음', '구름조금', '구름많음'],\n",
       " ['흐린 후 갬', '구름조금', '구름많음', '구름조금', '흐려져 비', '비 후 갬', '구름많음', '구름조금', '구름많음'],\n",
       " ['구름조금', '구름조금', '구름많음', '차차 흐려짐', '흐려져 비', '비 후 갬', '구름많음', '구름조금', '구름많음']]"
      ]
     },
     "execution_count": 15,
     "metadata": {},
     "output_type": "execute_result"
    }
   ],
   "source": [
    "whethers_of_all_area"
   ]
  },
  {
   "cell_type": "code",
   "execution_count": 16,
   "metadata": {
    "collapsed": false
   },
   "outputs": [
    {
     "data": {
      "text/plain": [
       "['서울인천경기',\n",
       " '강원영서',\n",
       " '강원영동',\n",
       " '충북',\n",
       " '대전세종충남',\n",
       " '전북',\n",
       " '광주전남',\n",
       " '대구경북',\n",
       " '부산울산경남',\n",
       " '제주']"
      ]
     },
     "execution_count": 16,
     "metadata": {},
     "output_type": "execute_result"
    }
   ],
   "source": [
    "areas"
   ]
  },
  {
   "cell_type": "code",
   "execution_count": 17,
   "metadata": {
    "collapsed": true
   },
   "outputs": [],
   "source": [
    "del areas[2]\n",
    "\n",
    "del whethers_of_all_area[2]"
   ]
  },
  {
   "cell_type": "code",
   "execution_count": 18,
   "metadata": {
    "collapsed": false
   },
   "outputs": [
    {
     "data": {
      "text/plain": [
       "['서울인천경기', '강원영서', '충북', '대전세종충남', '전북', '광주전남', '대구경북', '부산울산경남', '제주']"
      ]
     },
     "execution_count": 18,
     "metadata": {},
     "output_type": "execute_result"
    }
   ],
   "source": [
    "areas"
   ]
  },
  {
   "cell_type": "code",
   "execution_count": 19,
   "metadata": {
    "collapsed": false
   },
   "outputs": [
    {
     "data": {
      "text/plain": [
       "[['흐린 후 갬', '구름조금', '흐림', '구름조금', '흐려져 비', '구름많음', '구름조금', '구름조금', '구름많음'],\n",
       " ['흐린 후 갬', '구름조금', '흐림', '구름조금', '흐려져 비', '구름많음', '구름조금', '구름조금', '구름많음'],\n",
       " ['흐린 후 갬', '구름조금', '구름많음', '구름조금', '흐려져 비', '구름많음', '구름많음', '구름조금', '구름많음'],\n",
       " ['흐린 후 갬', '구름조금', '구름많음', '구름조금', '흐려져 비', '구름많음', '구름많음', '구름조금', '구름많음'],\n",
       " ['흐린 후 갬', '구름조금', '구름많음', '구름조금', '흐려져 비', '비 후 갬', '구름많음', '구름조금', '구름많음'],\n",
       " ['흐린 후 갬', '구름조금', '구름많음', '구름조금', '흐려져 비', '비 후 갬', '구름많음', '구름조금', '구름많음'],\n",
       " ['흐린 후 갬', '구름조금', '구름많음', '구름조금', '흐려져 비', '비 후 갬', '구름많음', '구름조금', '구름많음'],\n",
       " ['흐린 후 갬', '구름조금', '구름많음', '구름조금', '흐려져 비', '비 후 갬', '구름많음', '구름조금', '구름많음'],\n",
       " ['구름조금', '구름조금', '구름많음', '차차 흐려짐', '흐려져 비', '비 후 갬', '구름많음', '구름조금', '구름많음']]"
      ]
     },
     "execution_count": 19,
     "metadata": {},
     "output_type": "execute_result"
    }
   ],
   "source": [
    "whethers_of_all_area"
   ]
  },
  {
   "cell_type": "code",
   "execution_count": 20,
   "metadata": {
    "collapsed": true
   },
   "outputs": [],
   "source": [
    "new_areas = []\n",
    "\n",
    "new_whethers_of_all_area = []\n",
    "\n",
    "area_map = {\n",
    "    '경기': '경기도',\n",
    "    '강원': '강원도',\n",
    "    '충북': '충청북도',\n",
    "    '충남': '충청남도',\n",
    "    '경북': '경상북도',\n",
    "    '경남': '경상남도',\n",
    "    '전북': '전라북도',\n",
    "    '전남': '전라남도',\n",
    "    '제주': '제주도',\n",
    "    '세종': '세종특별자치시'\n",
    "}"
   ]
  },
  {
   "cell_type": "code",
   "execution_count": 21,
   "metadata": {
    "collapsed": false
   },
   "outputs": [],
   "source": [
    "for i, area in enumerate(areas):\n",
    "    split_area = [area[j:j + 2] for j in range(0, len(area), 2)]\n",
    "    if split_area[0] == '강원':\n",
    "        del split_area[1]\n",
    "    for k, area_part in enumerate(split_area):\n",
    "        if area_part in area_map:\n",
    "            split_area[k] = area_map[area_part]\n",
    "    new_areas += split_area\n",
    "    new_whethers_of_all_area += len(split_area) * [whethers_of_all_area[i]]"
   ]
  },
  {
   "cell_type": "code",
   "execution_count": 22,
   "metadata": {
    "collapsed": false
   },
   "outputs": [
    {
     "data": {
      "text/plain": [
       "['서울',\n",
       " '인천',\n",
       " '경기도',\n",
       " '강원도',\n",
       " '충청북도',\n",
       " '대전',\n",
       " '세종특별자치시',\n",
       " '충청남도',\n",
       " '전라북도',\n",
       " '광주',\n",
       " '전라남도',\n",
       " '대구',\n",
       " '경상북도',\n",
       " '부산',\n",
       " '울산',\n",
       " '경상남도',\n",
       " '제주도']"
      ]
     },
     "execution_count": 22,
     "metadata": {},
     "output_type": "execute_result"
    }
   ],
   "source": [
    "new_areas"
   ]
  },
  {
   "cell_type": "code",
   "execution_count": 23,
   "metadata": {
    "collapsed": true
   },
   "outputs": [],
   "source": [
    "areas = new_areas\n",
    "\n",
    "whethers_of_all_area = new_whethers_of_all_area\n",
    "\n",
    "whether_df = pd.DataFrame(whethers_of_all_area, columns=dates, index=areas)"
   ]
  },
  {
   "cell_type": "code",
   "execution_count": 24,
   "metadata": {
    "collapsed": false
   },
   "outputs": [
    {
     "data": {
      "text/html": [
       "<div>\n",
       "<table border=\"1\" class=\"dataframe\">\n",
       "  <thead>\n",
       "    <tr style=\"text-align: right;\">\n",
       "      <th></th>\n",
       "      <th>2016-05-11</th>\n",
       "      <th>2016-05-12</th>\n",
       "      <th>2016-05-13</th>\n",
       "      <th>2016-05-14</th>\n",
       "      <th>2016-05-15</th>\n",
       "      <th>2016-05-16</th>\n",
       "      <th>2016-05-17</th>\n",
       "      <th>2016-05-18</th>\n",
       "      <th>2016-05-19</th>\n",
       "    </tr>\n",
       "  </thead>\n",
       "  <tbody>\n",
       "    <tr>\n",
       "      <th>서울</th>\n",
       "      <td>흐린 후 갬</td>\n",
       "      <td>구름조금</td>\n",
       "      <td>흐림</td>\n",
       "      <td>구름조금</td>\n",
       "      <td>흐려져 비</td>\n",
       "      <td>구름많음</td>\n",
       "      <td>구름조금</td>\n",
       "      <td>구름조금</td>\n",
       "      <td>구름많음</td>\n",
       "    </tr>\n",
       "    <tr>\n",
       "      <th>인천</th>\n",
       "      <td>흐린 후 갬</td>\n",
       "      <td>구름조금</td>\n",
       "      <td>흐림</td>\n",
       "      <td>구름조금</td>\n",
       "      <td>흐려져 비</td>\n",
       "      <td>구름많음</td>\n",
       "      <td>구름조금</td>\n",
       "      <td>구름조금</td>\n",
       "      <td>구름많음</td>\n",
       "    </tr>\n",
       "    <tr>\n",
       "      <th>경기도</th>\n",
       "      <td>흐린 후 갬</td>\n",
       "      <td>구름조금</td>\n",
       "      <td>흐림</td>\n",
       "      <td>구름조금</td>\n",
       "      <td>흐려져 비</td>\n",
       "      <td>구름많음</td>\n",
       "      <td>구름조금</td>\n",
       "      <td>구름조금</td>\n",
       "      <td>구름많음</td>\n",
       "    </tr>\n",
       "    <tr>\n",
       "      <th>강원도</th>\n",
       "      <td>흐린 후 갬</td>\n",
       "      <td>구름조금</td>\n",
       "      <td>흐림</td>\n",
       "      <td>구름조금</td>\n",
       "      <td>흐려져 비</td>\n",
       "      <td>구름많음</td>\n",
       "      <td>구름조금</td>\n",
       "      <td>구름조금</td>\n",
       "      <td>구름많음</td>\n",
       "    </tr>\n",
       "    <tr>\n",
       "      <th>충청북도</th>\n",
       "      <td>흐린 후 갬</td>\n",
       "      <td>구름조금</td>\n",
       "      <td>구름많음</td>\n",
       "      <td>구름조금</td>\n",
       "      <td>흐려져 비</td>\n",
       "      <td>구름많음</td>\n",
       "      <td>구름많음</td>\n",
       "      <td>구름조금</td>\n",
       "      <td>구름많음</td>\n",
       "    </tr>\n",
       "    <tr>\n",
       "      <th>대전</th>\n",
       "      <td>흐린 후 갬</td>\n",
       "      <td>구름조금</td>\n",
       "      <td>구름많음</td>\n",
       "      <td>구름조금</td>\n",
       "      <td>흐려져 비</td>\n",
       "      <td>구름많음</td>\n",
       "      <td>구름많음</td>\n",
       "      <td>구름조금</td>\n",
       "      <td>구름많음</td>\n",
       "    </tr>\n",
       "    <tr>\n",
       "      <th>세종특별자치시</th>\n",
       "      <td>흐린 후 갬</td>\n",
       "      <td>구름조금</td>\n",
       "      <td>구름많음</td>\n",
       "      <td>구름조금</td>\n",
       "      <td>흐려져 비</td>\n",
       "      <td>구름많음</td>\n",
       "      <td>구름많음</td>\n",
       "      <td>구름조금</td>\n",
       "      <td>구름많음</td>\n",
       "    </tr>\n",
       "    <tr>\n",
       "      <th>충청남도</th>\n",
       "      <td>흐린 후 갬</td>\n",
       "      <td>구름조금</td>\n",
       "      <td>구름많음</td>\n",
       "      <td>구름조금</td>\n",
       "      <td>흐려져 비</td>\n",
       "      <td>구름많음</td>\n",
       "      <td>구름많음</td>\n",
       "      <td>구름조금</td>\n",
       "      <td>구름많음</td>\n",
       "    </tr>\n",
       "    <tr>\n",
       "      <th>전라북도</th>\n",
       "      <td>흐린 후 갬</td>\n",
       "      <td>구름조금</td>\n",
       "      <td>구름많음</td>\n",
       "      <td>구름조금</td>\n",
       "      <td>흐려져 비</td>\n",
       "      <td>비 후 갬</td>\n",
       "      <td>구름많음</td>\n",
       "      <td>구름조금</td>\n",
       "      <td>구름많음</td>\n",
       "    </tr>\n",
       "    <tr>\n",
       "      <th>광주</th>\n",
       "      <td>흐린 후 갬</td>\n",
       "      <td>구름조금</td>\n",
       "      <td>구름많음</td>\n",
       "      <td>구름조금</td>\n",
       "      <td>흐려져 비</td>\n",
       "      <td>비 후 갬</td>\n",
       "      <td>구름많음</td>\n",
       "      <td>구름조금</td>\n",
       "      <td>구름많음</td>\n",
       "    </tr>\n",
       "    <tr>\n",
       "      <th>전라남도</th>\n",
       "      <td>흐린 후 갬</td>\n",
       "      <td>구름조금</td>\n",
       "      <td>구름많음</td>\n",
       "      <td>구름조금</td>\n",
       "      <td>흐려져 비</td>\n",
       "      <td>비 후 갬</td>\n",
       "      <td>구름많음</td>\n",
       "      <td>구름조금</td>\n",
       "      <td>구름많음</td>\n",
       "    </tr>\n",
       "    <tr>\n",
       "      <th>대구</th>\n",
       "      <td>흐린 후 갬</td>\n",
       "      <td>구름조금</td>\n",
       "      <td>구름많음</td>\n",
       "      <td>구름조금</td>\n",
       "      <td>흐려져 비</td>\n",
       "      <td>비 후 갬</td>\n",
       "      <td>구름많음</td>\n",
       "      <td>구름조금</td>\n",
       "      <td>구름많음</td>\n",
       "    </tr>\n",
       "    <tr>\n",
       "      <th>경상북도</th>\n",
       "      <td>흐린 후 갬</td>\n",
       "      <td>구름조금</td>\n",
       "      <td>구름많음</td>\n",
       "      <td>구름조금</td>\n",
       "      <td>흐려져 비</td>\n",
       "      <td>비 후 갬</td>\n",
       "      <td>구름많음</td>\n",
       "      <td>구름조금</td>\n",
       "      <td>구름많음</td>\n",
       "    </tr>\n",
       "    <tr>\n",
       "      <th>부산</th>\n",
       "      <td>흐린 후 갬</td>\n",
       "      <td>구름조금</td>\n",
       "      <td>구름많음</td>\n",
       "      <td>구름조금</td>\n",
       "      <td>흐려져 비</td>\n",
       "      <td>비 후 갬</td>\n",
       "      <td>구름많음</td>\n",
       "      <td>구름조금</td>\n",
       "      <td>구름많음</td>\n",
       "    </tr>\n",
       "    <tr>\n",
       "      <th>울산</th>\n",
       "      <td>흐린 후 갬</td>\n",
       "      <td>구름조금</td>\n",
       "      <td>구름많음</td>\n",
       "      <td>구름조금</td>\n",
       "      <td>흐려져 비</td>\n",
       "      <td>비 후 갬</td>\n",
       "      <td>구름많음</td>\n",
       "      <td>구름조금</td>\n",
       "      <td>구름많음</td>\n",
       "    </tr>\n",
       "    <tr>\n",
       "      <th>경상남도</th>\n",
       "      <td>흐린 후 갬</td>\n",
       "      <td>구름조금</td>\n",
       "      <td>구름많음</td>\n",
       "      <td>구름조금</td>\n",
       "      <td>흐려져 비</td>\n",
       "      <td>비 후 갬</td>\n",
       "      <td>구름많음</td>\n",
       "      <td>구름조금</td>\n",
       "      <td>구름많음</td>\n",
       "    </tr>\n",
       "    <tr>\n",
       "      <th>제주도</th>\n",
       "      <td>구름조금</td>\n",
       "      <td>구름조금</td>\n",
       "      <td>구름많음</td>\n",
       "      <td>차차 흐려짐</td>\n",
       "      <td>흐려져 비</td>\n",
       "      <td>비 후 갬</td>\n",
       "      <td>구름많음</td>\n",
       "      <td>구름조금</td>\n",
       "      <td>구름많음</td>\n",
       "    </tr>\n",
       "  </tbody>\n",
       "</table>\n",
       "</div>"
      ],
      "text/plain": [
       "        2016-05-11 2016-05-12 2016-05-13 2016-05-14 2016-05-15 2016-05-16  \\\n",
       "서울          흐린 후 갬       구름조금         흐림       구름조금      흐려져 비       구름많음   \n",
       "인천          흐린 후 갬       구름조금         흐림       구름조금      흐려져 비       구름많음   \n",
       "경기도         흐린 후 갬       구름조금         흐림       구름조금      흐려져 비       구름많음   \n",
       "강원도         흐린 후 갬       구름조금         흐림       구름조금      흐려져 비       구름많음   \n",
       "충청북도        흐린 후 갬       구름조금       구름많음       구름조금      흐려져 비       구름많음   \n",
       "대전          흐린 후 갬       구름조금       구름많음       구름조금      흐려져 비       구름많음   \n",
       "세종특별자치시     흐린 후 갬       구름조금       구름많음       구름조금      흐려져 비       구름많음   \n",
       "충청남도        흐린 후 갬       구름조금       구름많음       구름조금      흐려져 비       구름많음   \n",
       "전라북도        흐린 후 갬       구름조금       구름많음       구름조금      흐려져 비      비 후 갬   \n",
       "광주          흐린 후 갬       구름조금       구름많음       구름조금      흐려져 비      비 후 갬   \n",
       "전라남도        흐린 후 갬       구름조금       구름많음       구름조금      흐려져 비      비 후 갬   \n",
       "대구          흐린 후 갬       구름조금       구름많음       구름조금      흐려져 비      비 후 갬   \n",
       "경상북도        흐린 후 갬       구름조금       구름많음       구름조금      흐려져 비      비 후 갬   \n",
       "부산          흐린 후 갬       구름조금       구름많음       구름조금      흐려져 비      비 후 갬   \n",
       "울산          흐린 후 갬       구름조금       구름많음       구름조금      흐려져 비      비 후 갬   \n",
       "경상남도        흐린 후 갬       구름조금       구름많음       구름조금      흐려져 비      비 후 갬   \n",
       "제주도           구름조금       구름조금       구름많음     차차 흐려짐      흐려져 비      비 후 갬   \n",
       "\n",
       "        2016-05-17 2016-05-18 2016-05-19  \n",
       "서울            구름조금       구름조금       구름많음  \n",
       "인천            구름조금       구름조금       구름많음  \n",
       "경기도           구름조금       구름조금       구름많음  \n",
       "강원도           구름조금       구름조금       구름많음  \n",
       "충청북도          구름많음       구름조금       구름많음  \n",
       "대전            구름많음       구름조금       구름많음  \n",
       "세종특별자치시       구름많음       구름조금       구름많음  \n",
       "충청남도          구름많음       구름조금       구름많음  \n",
       "전라북도          구름많음       구름조금       구름많음  \n",
       "광주            구름많음       구름조금       구름많음  \n",
       "전라남도          구름많음       구름조금       구름많음  \n",
       "대구            구름많음       구름조금       구름많음  \n",
       "경상북도          구름많음       구름조금       구름많음  \n",
       "부산            구름많음       구름조금       구름많음  \n",
       "울산            구름많음       구름조금       구름많음  \n",
       "경상남도          구름많음       구름조금       구름많음  \n",
       "제주도           구름많음       구름조금       구름많음  "
      ]
     },
     "execution_count": 24,
     "metadata": {},
     "output_type": "execute_result"
    }
   ],
   "source": [
    "whether_df"
   ]
  },
  {
   "cell_type": "code",
   "execution_count": 25,
   "metadata": {
    "collapsed": false
   },
   "outputs": [
    {
     "data": {
      "text/html": [
       "<div>\n",
       "<table border=\"1\" class=\"dataframe\">\n",
       "  <thead>\n",
       "    <tr style=\"text-align: right;\">\n",
       "      <th></th>\n",
       "      <th>제목</th>\n",
       "      <th>카테고리1</th>\n",
       "      <th>카테고리2</th>\n",
       "      <th>카테고리3</th>\n",
       "      <th>지역명</th>\n",
       "      <th>시군구명</th>\n",
       "      <th>요약</th>\n",
       "      <th>2016-05-11</th>\n",
       "      <th>2016-05-12</th>\n",
       "      <th>2016-05-13</th>\n",
       "      <th>2016-05-14</th>\n",
       "      <th>2016-05-15</th>\n",
       "      <th>2016-05-16</th>\n",
       "      <th>2016-05-17</th>\n",
       "      <th>2016-05-18</th>\n",
       "      <th>2016-05-19</th>\n",
       "    </tr>\n",
       "  </thead>\n",
       "  <tbody>\n",
       "    <tr>\n",
       "      <th>0</th>\n",
       "      <td>덕수궁</td>\n",
       "      <td>인문(문화/예술/역사)</td>\n",
       "      <td>역사관광지</td>\n",
       "      <td>고궁</td>\n",
       "      <td>서울</td>\n",
       "      <td>중구</td>\n",
       "      <td>사적 제124호의 덕수궁은 본디 왕궁이 아니었다. 원래 성종의 형인 월산대군(145...</td>\n",
       "      <td>흐린 후 갬</td>\n",
       "      <td>구름조금</td>\n",
       "      <td>흐림</td>\n",
       "      <td>구름조금</td>\n",
       "      <td>흐려져 비</td>\n",
       "      <td>구름많음</td>\n",
       "      <td>구름조금</td>\n",
       "      <td>구름조금</td>\n",
       "      <td>구름많음</td>\n",
       "    </tr>\n",
       "    <tr>\n",
       "      <th>1</th>\n",
       "      <td>서울 운현궁</td>\n",
       "      <td>인문(문화/예술/역사)</td>\n",
       "      <td>역사관광지</td>\n",
       "      <td>고궁</td>\n",
       "      <td>서울</td>\n",
       "      <td>종로구</td>\n",
       "      <td>운현궁은 현재 종로구 운니동에 위치한 사적 제 257호의 문화유산이다. 운현궁은 경...</td>\n",
       "      <td>흐린 후 갬</td>\n",
       "      <td>구름조금</td>\n",
       "      <td>흐림</td>\n",
       "      <td>구름조금</td>\n",
       "      <td>흐려져 비</td>\n",
       "      <td>구름많음</td>\n",
       "      <td>구름조금</td>\n",
       "      <td>구름조금</td>\n",
       "      <td>구름많음</td>\n",
       "    </tr>\n",
       "    <tr>\n",
       "      <th>2</th>\n",
       "      <td>경희궁</td>\n",
       "      <td>인문(문화/예술/역사)</td>\n",
       "      <td>역사관광지</td>\n",
       "      <td>고궁</td>\n",
       "      <td>서울</td>\n",
       "      <td>종로구</td>\n",
       "      <td>사적 제271호인 경희궁은 조선을 개국한 태조 이성계가 살았던 곳으로, 새문안 대궐...</td>\n",
       "      <td>흐린 후 갬</td>\n",
       "      <td>구름조금</td>\n",
       "      <td>흐림</td>\n",
       "      <td>구름조금</td>\n",
       "      <td>흐려져 비</td>\n",
       "      <td>구름많음</td>\n",
       "      <td>구름조금</td>\n",
       "      <td>구름조금</td>\n",
       "      <td>구름많음</td>\n",
       "    </tr>\n",
       "    <tr>\n",
       "      <th>3</th>\n",
       "      <td>경복궁</td>\n",
       "      <td>인문(문화/예술/역사)</td>\n",
       "      <td>역사관광지</td>\n",
       "      <td>고궁</td>\n",
       "      <td>서울</td>\n",
       "      <td>종로구</td>\n",
       "      <td>경복궁은 1395년 태조 이성계에 의해서 새로운 조선왕조의 법궁으로 지어졌다. 경복...</td>\n",
       "      <td>흐린 후 갬</td>\n",
       "      <td>구름조금</td>\n",
       "      <td>흐림</td>\n",
       "      <td>구름조금</td>\n",
       "      <td>흐려져 비</td>\n",
       "      <td>구름많음</td>\n",
       "      <td>구름조금</td>\n",
       "      <td>구름조금</td>\n",
       "      <td>구름많음</td>\n",
       "    </tr>\n",
       "    <tr>\n",
       "      <th>4</th>\n",
       "      <td>창경궁</td>\n",
       "      <td>인문(문화/예술/역사)</td>\n",
       "      <td>역사관광지</td>\n",
       "      <td>고궁</td>\n",
       "      <td>서울</td>\n",
       "      <td>종로구</td>\n",
       "      <td>창경궁은 세종대왕이 상왕인 태종을 모시고자 1418년에 지은 수강궁이 그 전신이다....</td>\n",
       "      <td>흐린 후 갬</td>\n",
       "      <td>구름조금</td>\n",
       "      <td>흐림</td>\n",
       "      <td>구름조금</td>\n",
       "      <td>흐려져 비</td>\n",
       "      <td>구름많음</td>\n",
       "      <td>구름조금</td>\n",
       "      <td>구름조금</td>\n",
       "      <td>구름많음</td>\n",
       "    </tr>\n",
       "  </tbody>\n",
       "</table>\n",
       "</div>"
      ],
      "text/plain": [
       "       제목         카테고리1  카테고리2 카테고리3 지역명 시군구명  \\\n",
       "0     덕수궁  인문(문화/예술/역사)  역사관광지    고궁  서울   중구   \n",
       "1  서울 운현궁  인문(문화/예술/역사)  역사관광지    고궁  서울  종로구   \n",
       "2     경희궁  인문(문화/예술/역사)  역사관광지    고궁  서울  종로구   \n",
       "3     경복궁  인문(문화/예술/역사)  역사관광지    고궁  서울  종로구   \n",
       "4     창경궁  인문(문화/예술/역사)  역사관광지    고궁  서울  종로구   \n",
       "\n",
       "                                                  요약 2016-05-11 2016-05-12  \\\n",
       "0  사적 제124호의 덕수궁은 본디 왕궁이 아니었다. 원래 성종의 형인 월산대군(145...     흐린 후 갬       구름조금   \n",
       "1  운현궁은 현재 종로구 운니동에 위치한 사적 제 257호의 문화유산이다. 운현궁은 경...     흐린 후 갬       구름조금   \n",
       "2  사적 제271호인 경희궁은 조선을 개국한 태조 이성계가 살았던 곳으로, 새문안 대궐...     흐린 후 갬       구름조금   \n",
       "3  경복궁은 1395년 태조 이성계에 의해서 새로운 조선왕조의 법궁으로 지어졌다. 경복...     흐린 후 갬       구름조금   \n",
       "4  창경궁은 세종대왕이 상왕인 태종을 모시고자 1418년에 지은 수강궁이 그 전신이다....     흐린 후 갬       구름조금   \n",
       "\n",
       "  2016-05-13 2016-05-14 2016-05-15 2016-05-16 2016-05-17 2016-05-18 2016-05-19  \n",
       "0         흐림       구름조금      흐려져 비       구름많음       구름조금       구름조금       구름많음  \n",
       "1         흐림       구름조금      흐려져 비       구름많음       구름조금       구름조금       구름많음  \n",
       "2         흐림       구름조금      흐려져 비       구름많음       구름조금       구름조금       구름많음  \n",
       "3         흐림       구름조금      흐려져 비       구름많음       구름조금       구름조금       구름많음  \n",
       "4         흐림       구름조금      흐려져 비       구름많음       구름조금       구름조금       구름많음  "
      ]
     },
     "execution_count": 25,
     "metadata": {},
     "output_type": "execute_result"
    }
   ],
   "source": [
    "tour_df = tour_df.join(whether_df, on='지역명')\n",
    "\n",
    "tour_df.head()"
   ]
  },
  {
   "cell_type": "code",
   "execution_count": 26,
   "metadata": {
    "collapsed": true
   },
   "outputs": [],
   "source": [
    "import datetime"
   ]
  },
  {
   "cell_type": "code",
   "execution_count": 27,
   "metadata": {
    "collapsed": false
   },
   "outputs": [
    {
     "data": {
      "text/plain": [
       "'2016-05-11'"
      ]
     },
     "execution_count": 27,
     "metadata": {},
     "output_type": "execute_result"
    }
   ],
   "source": [
    "the_day_after_tommorow = datetime.datetime.strftime(datetime.date.today() + datetime.timedelta(days=2), \"%Y-%m-%d\")\n",
    "two_day_after_tommorow = datetime.datetime.strftime(datetime.date.today() + datetime.timedelta(days=3), \"%Y-%m-%d\")\n",
    "three_day_after_tommorow = datetime.datetime.strftime(datetime.date.today() + datetime.timedelta(days=4), \"%Y-%m-%d\")\n",
    "the_day_after_tommorow"
   ]
  },
  {
   "cell_type": "code",
   "execution_count": 28,
   "metadata": {
    "collapsed": false
   },
   "outputs": [
    {
     "data": {
      "text/html": [
       "<div>\n",
       "<table border=\"1\" class=\"dataframe\">\n",
       "  <thead>\n",
       "    <tr style=\"text-align: right;\">\n",
       "      <th></th>\n",
       "      <th>제목</th>\n",
       "      <th>카테고리1</th>\n",
       "      <th>카테고리2</th>\n",
       "      <th>카테고리3</th>\n",
       "      <th>지역명</th>\n",
       "      <th>시군구명</th>\n",
       "      <th>요약</th>\n",
       "      <th>2016-05-11</th>\n",
       "      <th>2016-05-12</th>\n",
       "      <th>2016-05-13</th>\n",
       "      <th>2016-05-14</th>\n",
       "      <th>2016-05-15</th>\n",
       "      <th>2016-05-16</th>\n",
       "      <th>2016-05-17</th>\n",
       "      <th>2016-05-18</th>\n",
       "      <th>2016-05-19</th>\n",
       "    </tr>\n",
       "  </thead>\n",
       "  <tbody>\n",
       "  </tbody>\n",
       "</table>\n",
       "</div>"
      ],
      "text/plain": [
       "Empty DataFrame\n",
       "Columns: [제목, 카테고리1, 카테고리2, 카테고리3, 지역명, 시군구명, 요약, 2016-05-11, 2016-05-12, 2016-05-13, 2016-05-14, 2016-05-15, 2016-05-16, 2016-05-17, 2016-05-18, 2016-05-19]\n",
       "Index: []"
      ]
     },
     "execution_count": 28,
     "metadata": {},
     "output_type": "execute_result"
    }
   ],
   "source": [
    "tour_df[tour_df[the_day_after_tommorow].str.contains(\"비\")]"
   ]
  },
  {
   "cell_type": "code",
   "execution_count": 29,
   "metadata": {
    "collapsed": false
   },
   "outputs": [
    {
     "data": {
      "text/html": [
       "<div>\n",
       "<table border=\"1\" class=\"dataframe\">\n",
       "  <thead>\n",
       "    <tr style=\"text-align: right;\">\n",
       "      <th></th>\n",
       "      <th>제목</th>\n",
       "      <th>카테고리1</th>\n",
       "      <th>카테고리2</th>\n",
       "      <th>카테고리3</th>\n",
       "      <th>지역명</th>\n",
       "      <th>시군구명</th>\n",
       "      <th>요약</th>\n",
       "      <th>2016-05-11</th>\n",
       "      <th>2016-05-12</th>\n",
       "      <th>2016-05-13</th>\n",
       "      <th>2016-05-14</th>\n",
       "      <th>2016-05-15</th>\n",
       "      <th>2016-05-16</th>\n",
       "      <th>2016-05-17</th>\n",
       "      <th>2016-05-18</th>\n",
       "      <th>2016-05-19</th>\n",
       "    </tr>\n",
       "  </thead>\n",
       "  <tbody>\n",
       "  </tbody>\n",
       "</table>\n",
       "</div>"
      ],
      "text/plain": [
       "Empty DataFrame\n",
       "Columns: [제목, 카테고리1, 카테고리2, 카테고리3, 지역명, 시군구명, 요약, 2016-05-11, 2016-05-12, 2016-05-13, 2016-05-14, 2016-05-15, 2016-05-16, 2016-05-17, 2016-05-18, 2016-05-19]\n",
       "Index: []"
      ]
     },
     "execution_count": 29,
     "metadata": {},
     "output_type": "execute_result"
    }
   ],
   "source": [
    "tour_df[tour_df[two_day_after_tommorow].str.contains('비')]"
   ]
  },
  {
   "cell_type": "code",
   "execution_count": 30,
   "metadata": {
    "collapsed": false
   },
   "outputs": [
    {
     "data": {
      "text/html": [
       "<div>\n",
       "<table border=\"1\" class=\"dataframe\">\n",
       "  <thead>\n",
       "    <tr style=\"text-align: right;\">\n",
       "      <th></th>\n",
       "      <th>제목</th>\n",
       "      <th>카테고리1</th>\n",
       "      <th>카테고리2</th>\n",
       "      <th>카테고리3</th>\n",
       "      <th>지역명</th>\n",
       "      <th>시군구명</th>\n",
       "      <th>요약</th>\n",
       "      <th>2016-05-11</th>\n",
       "      <th>2016-05-12</th>\n",
       "      <th>2016-05-13</th>\n",
       "      <th>2016-05-14</th>\n",
       "      <th>2016-05-15</th>\n",
       "      <th>2016-05-16</th>\n",
       "      <th>2016-05-17</th>\n",
       "      <th>2016-05-18</th>\n",
       "      <th>2016-05-19</th>\n",
       "    </tr>\n",
       "  </thead>\n",
       "  <tbody>\n",
       "  </tbody>\n",
       "</table>\n",
       "</div>"
      ],
      "text/plain": [
       "Empty DataFrame\n",
       "Columns: [제목, 카테고리1, 카테고리2, 카테고리3, 지역명, 시군구명, 요약, 2016-05-11, 2016-05-12, 2016-05-13, 2016-05-14, 2016-05-15, 2016-05-16, 2016-05-17, 2016-05-18, 2016-05-19]\n",
       "Index: []"
      ]
     },
     "execution_count": 30,
     "metadata": {},
     "output_type": "execute_result"
    }
   ],
   "source": [
    "tour_df[tour_df[three_day_after_tommorow].str.contains('비')]"
   ]
  },
  {
   "cell_type": "code",
   "execution_count": null,
   "metadata": {
    "collapsed": true
   },
   "outputs": [],
   "source": []
  }
 ],
 "metadata": {
  "kernelspec": {
   "display_name": "Python 3",
   "language": "python",
   "name": "python3"
  },
  "language_info": {
   "codemirror_mode": {
    "name": "ipython",
    "version": 3
   },
   "file_extension": ".py",
   "mimetype": "text/x-python",
   "name": "python",
   "nbconvert_exporter": "python",
   "pygments_lexer": "ipython3",
   "version": "3.5.1"
  }
 },
 "nbformat": 4,
 "nbformat_minor": 0
}
